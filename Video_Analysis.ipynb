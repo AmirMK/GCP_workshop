{
 "cells": [
  {
   "cell_type": "code",
   "execution_count": 1,
   "id": "65ff3c32-6460-443e-ba9e-3c7d46ba9074",
   "metadata": {
    "tags": []
   },
   "outputs": [],
   "source": [
    "import json\n",
    "import pandas as pd\n",
    "\n",
    "import vertexai\n",
    "from google.cloud import storage\n",
    "from vertexai.generative_models import (\n",
    "    GenerationConfig,\n",
    "    GenerativeModel,\n",
    "    HarmBlockThreshold,\n",
    "    HarmCategory,\n",
    "    Part,\n",
    "    Content,\n",
    "    GenerationResponse,    \n",
    ")\n"
   ]
  },
  {
   "cell_type": "code",
   "execution_count": 2,
   "id": "0d0adc2d-8ecf-4aff-9612-d49ae7af0e38",
   "metadata": {
    "tags": []
   },
   "outputs": [],
   "source": [
    "project_id = \"lab-project-426319\"#\"[project-id]\"\n",
    "location = \"us-central1\"\n",
    "\n",
    "# set the google storage url to the video\n",
    "video_file_url = 'gs://video_demo_test/wakeup_princess.mp4'"
   ]
  },
  {
   "cell_type": "code",
   "execution_count": 3,
   "id": "604301a2-4f95-4fe8-879f-9b58d79011e1",
   "metadata": {
    "tags": []
   },
   "outputs": [],
   "source": [
    "prompt = '''\n",
    "\n",
    "       I have a video that I need you to analyze for ad placement by detecting scene changes, \n",
    "       also known as shot boundaries. I need to identify the 10 best scene changes across the \n",
    "       entire movie, which are the best potential points for ad placement as they minimize \n",
    "       interruptions for viewers. These scene changes should be selected from all parts of the movie: \n",
    "       the beginning, middle, and the very end. Make sure you distribute the selected scenes evenly across \n",
    "       the entire movie.\n",
    "       For each of these scene changes, please provide:\n",
    "\n",
    "        timestamp: The exact timestamps indicating where the scene change occurs. Make sure that the timestamp of scenes are matched those in the original movie,\n",
    "        reflecting its position accurately. The timestamps must exactly match those in the original movie.\n",
    "        \n",
    "        reason: The reason why this is a scene change and why it is a good location for ad placement. the reason \n",
    "        should be very specific. Summarize the story after and before the scene and the explain why \n",
    "        between these two scene is a good place for an ad.\n",
    "        \n",
    "        summary: A brief summary of the scene before the change.\n",
    "        \n",
    "        transition_feeling: The main feeling that the transition makes in viewers like excitement, peace, fear, etc.\n",
    "        \n",
    "        transition_type: The method used to switch from one scene to another like cuts, fades, dissolves, etc.\n",
    "        \n",
    "        narrative_type: The main role or significance of the scene in the storyline like pivotal, climatic, conflict, etc.\n",
    "        \n",
    "        dialogue_intensity: The amount and intensity of dialogue in the scene like monologue, dialogue, narration, debate, etc.\n",
    "\n",
    "        characters_type: The types of the most important character involved in the scene transition like protagonist, antagonist, supporting, etc.\n",
    "        \n",
    "        scene_categories:  Classification of the scene before the change into the categories such as action, drama, comedy, etc.\n",
    "      \n",
    "      '''      \n",
    "\n",
    "# Specify the structure of output from Gemini\n",
    "response_schema = {\n",
    "    \"type\": \"array\",\n",
    "    \"items\": {\n",
    "        \"type\": \"object\",\n",
    "        \"properties\": {\n",
    "            \"timestamp\": {\"type\": \"string\"},\n",
    "            \"reason\": {\"type\": \"string\"},\n",
    "            \"transition_feeling\": {\"type\": \"string\"},\n",
    "            \"transition_type\": {\"type\": \"string\"},\n",
    "            \"narrative_type\": {\"type\": \"string\"},\n",
    "            \"dialogue_intensity\": {\"type\": \"string\"},\n",
    "            \"characters_type\": {\"type\": \"string\"},\n",
    "            \"scene_categories\": {\"type\": \"string\"},\n",
    "            \n",
    "        },\n",
    "        \"required\": [\"timestamp\", \"reason\",\"transition_feeling\",\"transition_type\",\"narrative_type\",\n",
    "                    \"characters_type\",\"scene_categories\"],\n",
    "    },\n",
    "}\n",
    "\n",
    "\n",
    "\n",
    "vertexai.init(project=project_id, location=location)\n",
    "model_id = \"gemini-1.5-pro-001\"  \n",
    "model = GenerativeModel(model_id)\n",
    "\n",
    "# Gemini configuration\n",
    "generation_config = GenerationConfig(temperature=0,\n",
    "                                    response_mime_type=\"application/json\", \n",
    "                                     response_schema=response_schema)"
   ]
  },
  {
   "cell_type": "code",
   "execution_count": 5,
   "id": "f2a6a0b6-7b7a-4638-9e79-06cc048308d3",
   "metadata": {
    "tags": []
   },
   "outputs": [],
   "source": [
    "# Read the video \n",
    "video_file = Part.from_uri(video_file_url, mime_type=\"video/mp4\")\n",
    "\n",
    "# Create the content as Gemini input (text and video)\n",
    "contents = [video_file, prompt]\n",
    "\n",
    "response = model.generate_content(contents,generation_config=generation_config)"
   ]
  },
  {
   "cell_type": "code",
   "execution_count": 6,
   "id": "fd3ec957-03b6-42f1-abcd-b04befc18494",
   "metadata": {
    "tags": []
   },
   "outputs": [],
   "source": [
    "# Convert the Gemini response to json\n",
    "json_response  =  json.loads(response.text)"
   ]
  },
  {
   "cell_type": "code",
   "execution_count": 7,
   "id": "ba2d19ed-aa7e-4a5c-badf-f9e6f1d7a4db",
   "metadata": {
    "tags": []
   },
   "outputs": [],
   "source": [
    "# Conver json to dataframe\n",
    "df_response = pd.DataFrame(json_response)"
   ]
  },
  {
   "cell_type": "code",
   "execution_count": 9,
   "id": "91cf784b-ba11-4a66-8a7f-5b7cd4cb7d68",
   "metadata": {
    "tags": []
   },
   "outputs": [],
   "source": [
    "df_response.head()"
   ]
  },
  {
   "cell_type": "code",
   "execution_count": null,
   "id": "7b64346d-b31f-4e60-8fd4-bd664c1221de",
   "metadata": {},
   "outputs": [],
   "source": []
  }
 ],
 "metadata": {
  "environment": {
   "kernel": "python3",
   "name": "tf2-cpu.2-11.m122",
   "type": "gcloud",
   "uri": "us-docker.pkg.dev/deeplearning-platform-release/gcr.io/tf2-cpu.2-11:m122"
  },
  "kernelspec": {
   "display_name": "Python 3",
   "language": "python",
   "name": "python3"
  },
  "language_info": {
   "codemirror_mode": {
    "name": "ipython",
    "version": 3
   },
   "file_extension": ".py",
   "mimetype": "text/x-python",
   "name": "python",
   "nbconvert_exporter": "python",
   "pygments_lexer": "ipython3",
   "version": "3.10.14"
  }
 },
 "nbformat": 4,
 "nbformat_minor": 5
}
